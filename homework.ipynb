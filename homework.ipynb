{
  "nbformat": 4,
  "nbformat_minor": 0,
  "metadata": {
    "colab": {
      "provenance": [],
      "authorship_tag": "ABX9TyMKRRp4cjpB9P7TTUhF0zIH",
      "include_colab_link": true
    },
    "kernelspec": {
      "name": "python3",
      "display_name": "Python 3"
    },
    "language_info": {
      "name": "python"
    }
  },
  "cells": [
    {
      "cell_type": "markdown",
      "metadata": {
        "id": "view-in-github",
        "colab_type": "text"
      },
      "source": [
        "<a href=\"https://colab.research.google.com/github/snatabag/Samsung-Assignment/blob/main/homework.ipynb\" target=\"_parent\"><img src=\"https://colab.research.google.com/assets/colab-badge.svg\" alt=\"Open In Colab\"/></a>"
      ]
    },
    {
      "cell_type": "code",
      "execution_count": 131,
      "metadata": {
        "id": "NzqZgXKgNCt5"
      },
      "outputs": [],
      "source": [
        "import numpy as np\n"
      ]
    },
    {
      "cell_type": "code",
      "source": [
        "\n",
        "# 1. Create a 5×5 matrix with values 1–25\n",
        "a1 = np.arange(1, 26).reshape(5, 5)\n",
        "print(\"1:\\n\", a1)"
      ],
      "metadata": {
        "colab": {
          "base_uri": "https://localhost:8080/"
        },
        "id": "8Gojc0jgNP4A",
        "outputId": "bdcee60e-e64c-4199-f799-66f5fe76dbe3"
      },
      "execution_count": 132,
      "outputs": [
        {
          "output_type": "stream",
          "name": "stdout",
          "text": [
            "1:\n",
            " [[ 1  2  3  4  5]\n",
            " [ 6  7  8  9 10]\n",
            " [11 12 13 14 15]\n",
            " [16 17 18 19 20]\n",
            " [21 22 23 24 25]]\n"
          ]
        }
      ]
    },
    {
      "cell_type": "code",
      "source": [
        "# 2. Generate a 4×4 identity matrix\n",
        "a2 = np.eye(4)\n",
        "print(\"\\n2:\\n\", a2)"
      ],
      "metadata": {
        "colab": {
          "base_uri": "https://localhost:8080/"
        },
        "id": "xQmVdqFNO86A",
        "outputId": "35c9659e-0a7b-4fa6-f60b-1d5a8f61b618"
      },
      "execution_count": 133,
      "outputs": [
        {
          "output_type": "stream",
          "name": "stdout",
          "text": [
            "\n",
            "2:\n",
            " [[1. 0. 0. 0.]\n",
            " [0. 1. 0. 0.]\n",
            " [0. 0. 1. 0.]\n",
            " [0. 0. 0. 1.]]\n"
          ]
        }
      ]
    },
    {
      "cell_type": "code",
      "source": [
        "# 3. 1D array of numbers from 100 to 200 with step 10\n",
        "a3 = np.arange(100, 201, 10)\n",
        "print(\"\\n3:\\n\", a3)"
      ],
      "metadata": {
        "colab": {
          "base_uri": "https://localhost:8080/"
        },
        "id": "mjJ6oaZ0PDtt",
        "outputId": "2364b6aa-a1ae-4f07-f811-ca13704e7eaf"
      },
      "execution_count": 134,
      "outputs": [
        {
          "output_type": "stream",
          "name": "stdout",
          "text": [
            "\n",
            "3:\n",
            " [100 110 120 130 140 150 160 170 180 190 200]\n"
          ]
        }
      ]
    },
    {
      "cell_type": "code",
      "source": [
        "# 4. Random 3×3 matrix and determinant\n",
        "a4 = np.random.rand(3, 3)\n",
        "print(\"\\n4:\\n\", a4, \"\\nDet:\", np.linalg.det(a4))\n"
      ],
      "metadata": {
        "colab": {
          "base_uri": "https://localhost:8080/"
        },
        "id": "vIwwWLm4QnAL",
        "outputId": "7d16e0ea-88d9-478a-db40-e3ca4ece0cb0"
      },
      "execution_count": 135,
      "outputs": [
        {
          "output_type": "stream",
          "name": "stdout",
          "text": [
            "\n",
            "4:\n",
            " [[0.97956605 0.76744694 0.6895864 ]\n",
            " [0.74353914 0.66514134 0.51872468]\n",
            " [0.69597078 0.96443751 0.6893293 ]] \n",
            "Det: 0.01806704938708176\n"
          ]
        }
      ]
    },
    {
      "cell_type": "code",
      "source": [
        "# 5. Array of 10 random integers between 1 and 100\n",
        "a5 = np.random.randint(1, 101, 10)\n",
        "print(\"\\n5:\\n\", a5)"
      ],
      "metadata": {
        "colab": {
          "base_uri": "https://localhost:8080/"
        },
        "id": "PKDwVK7WQytx",
        "outputId": "89576f6e-9846-493d-9c3b-8f3c8174a2f2"
      },
      "execution_count": 136,
      "outputs": [
        {
          "output_type": "stream",
          "name": "stdout",
          "text": [
            "\n",
            "5:\n",
            " [16 16 66 49 97 78 75 21 45 45]\n"
          ]
        }
      ]
    },
    {
      "cell_type": "code",
      "source": [
        "# 6. Reshape 1D array of size 12 to 3×4\n",
        "a6 = np.arange(12).reshape(3, 4)\n",
        "print(\"\\n6:\\n\", a6)"
      ],
      "metadata": {
        "colab": {
          "base_uri": "https://localhost:8080/"
        },
        "id": "aFUw2v3zXt4L",
        "outputId": "c580b854-5246-4678-ff13-17e877686537"
      },
      "execution_count": 137,
      "outputs": [
        {
          "output_type": "stream",
          "name": "stdout",
          "text": [
            "\n",
            "6:\n",
            " [[ 0  1  2  3]\n",
            " [ 4  5  6  7]\n",
            " [ 8  9 10 11]]\n"
          ]
        }
      ]
    },
    {
      "cell_type": "code",
      "source": [
        "# 7. Matrix multiplication of two 3×3 matrices\n",
        "m1, m2 = np.random.randint(1, 10, (3, 3)), np.random.randint(1, 10, (3, 3))\n",
        "print(\"\\n7:\\n\", m1 @ m2)"
      ],
      "metadata": {
        "colab": {
          "base_uri": "https://localhost:8080/"
        },
        "id": "fAhGl5ntZlGK",
        "outputId": "775b5c0a-d1aa-4df7-b7ee-790906dae6d9"
      },
      "execution_count": 97,
      "outputs": [
        {
          "output_type": "stream",
          "name": "stdout",
          "text": [
            "\n",
            "7:\n",
            " [[ 26 118  94]\n",
            " [ 26  81  96]\n",
            " [ 54 126 110]]\n"
          ]
        }
      ]
    },
    {
      "cell_type": "code",
      "source": [
        "# 8. Eigenvalues and eigenvectors of 2×2 matrix\n",
        "m = np.array([[2, 1], [1, 2]])\n",
        "w, v = np.linalg.eig(m)\n",
        "print(\"\\n8:\\nEigenvalues:\", w, \"\\nEigenvectors:\\n\", v)"
      ],
      "metadata": {
        "colab": {
          "base_uri": "https://localhost:8080/"
        },
        "id": "SMefJmGIZttR",
        "outputId": "ca00e702-f39e-460d-87e9-30df9d8dbb76"
      },
      "execution_count": 98,
      "outputs": [
        {
          "output_type": "stream",
          "name": "stdout",
          "text": [
            "\n",
            "8:\n",
            "Eigenvalues: [3. 1.] \n",
            "Eigenvectors:\n",
            " [[ 0.70710678 -0.70710678]\n",
            " [ 0.70710678  0.70710678]]\n"
          ]
        }
      ]
    },
    {
      "cell_type": "code",
      "source": [
        "# 9. 5×5 random matrix and diagonal\n",
        "a9 = np.random.rand(5, 5)\n",
        "print(\"\\n9:\\n\", np.diag(a9))"
      ],
      "metadata": {
        "colab": {
          "base_uri": "https://localhost:8080/"
        },
        "id": "k55De2oDaLQf",
        "outputId": "2b5eecf8-f824-4e6d-da0a-fbb6b5036f82"
      },
      "execution_count": 99,
      "outputs": [
        {
          "output_type": "stream",
          "name": "stdout",
          "text": [
            "\n",
            "9:\n",
            " [0.38829511 0.76674289 0.57279315 0.60052569 0.63047062]\n"
          ]
        }
      ]
    },
    {
      "cell_type": "code",
      "source": [
        "# 10. Normalize 1D array\n",
        "arr4 = np.random.randint(1, 20, 10)\n",
        "norm_arr = (arr4 - arr4.min()) / (arr4.max() - arr4.min())\n",
        "print(norm_arr)"
      ],
      "metadata": {
        "id": "OoXXO0kqmo9B",
        "colab": {
          "base_uri": "https://localhost:8080/"
        },
        "outputId": "6a8dd1fe-3ca7-4ac9-ccce-7f5ae048956b"
      },
      "execution_count": 100,
      "outputs": [
        {
          "output_type": "stream",
          "name": "stdout",
          "text": [
            "[0.1875 0.625  0.6875 0.3125 0.3125 0.6875 1.     0.5    0.     0.75  ]\n"
          ]
        }
      ]
    },
    {
      "cell_type": "code",
      "source": [
        "# 11. Sort array by row and column\n",
        "a11 = np.random.randint(1, 50, (3, 3))\n",
        "print(\"\\n11 Original:\\n\", a11)\n",
        "print(\"Row-wise:\\n\", np.sort(a11, axis=1))\n",
        "print(\"Column-wise:\\n\", np.sort(a11, axis=0))"
      ],
      "metadata": {
        "colab": {
          "base_uri": "https://localhost:8080/"
        },
        "id": "dxknYLO2oUbA",
        "outputId": "dd61a52a-e39d-4c63-f0a0-eb2875e192b7"
      },
      "execution_count": 101,
      "outputs": [
        {
          "output_type": "stream",
          "name": "stdout",
          "text": [
            "\n",
            "11 Original:\n",
            " [[39 45 34]\n",
            " [11 12 37]\n",
            " [42 39 13]]\n",
            "Row-wise:\n",
            " [[34 39 45]\n",
            " [11 12 37]\n",
            " [13 39 42]]\n",
            "Column-wise:\n",
            " [[11 12 13]\n",
            " [39 39 34]\n",
            " [42 45 37]]\n"
          ]
        }
      ]
    },
    {
      "cell_type": "code",
      "source": [
        "# 12. Indices of max and min\n",
        "a12 = np.random.randint(1, 100, 10)\n",
        "print(\"\\n12:\\n\", a12, \"\\nMax idx:\", a12.argmax(), \"Min idx:\", a12.argmin())\n"
      ],
      "metadata": {
        "colab": {
          "base_uri": "https://localhost:8080/"
        },
        "id": "0zc-awRPpY_c",
        "outputId": "cb1bdf9b-1482-4b13-fe52-49e67b472258"
      },
      "execution_count": 102,
      "outputs": [
        {
          "output_type": "stream",
          "name": "stdout",
          "text": [
            "\n",
            "12:\n",
            " [ 6 46 86 19 27 85 83  5 67 41] \n",
            "Max idx: 2 Min idx: 7\n"
          ]
        }
      ]
    },
    {
      "cell_type": "code",
      "source": [
        "# 13. Flatten array\n",
        "a13 = np.arange(9).reshape(3, 3)\n",
        "print(\"\\n13 ravel:\", a13.ravel(), \"flatten:\", a13.flatten())\n"
      ],
      "metadata": {
        "colab": {
          "base_uri": "https://localhost:8080/"
        },
        "id": "aYA0u98fpdl4",
        "outputId": "8c504512-1927-4e6f-81ad-01097707d101"
      },
      "execution_count": 103,
      "outputs": [
        {
          "output_type": "stream",
          "name": "stdout",
          "text": [
            "\n",
            "13 ravel: [0 1 2 3 4 5 6 7 8] flatten: [0 1 2 3 4 5 6 7 8]\n"
          ]
        }
      ]
    },
    {
      "cell_type": "code",
      "source": [
        "# 14. Inverse of 3×3 matrix\n",
        "a14 = np.random.randint(1, 10, (3, 3))\n",
        "print(\"\\n14 Inverse:\\n\", np.linalg.inv(a14))"
      ],
      "metadata": {
        "colab": {
          "base_uri": "https://localhost:8080/"
        },
        "id": "DLzZ3hn8pjNq",
        "outputId": "8ae73f3d-5159-4b3e-eb0a-da35ff21f502"
      },
      "execution_count": 104,
      "outputs": [
        {
          "output_type": "stream",
          "name": "stdout",
          "text": [
            "\n",
            "14 Inverse:\n",
            " [[ 0.34177215 -0.13924051 -0.03797468]\n",
            " [-0.39240506 -0.02531646  0.26582278]\n",
            " [ 0.13924051  0.20253165 -0.12658228]]\n"
          ]
        }
      ]
    },
    {
      "cell_type": "code",
      "source": [
        "# 15. Random permutation of 1–10\n",
        "print(\"\\n15:\\n\", np.random.permutation(np.arange(1, 11)))\n",
        "\n"
      ],
      "metadata": {
        "colab": {
          "base_uri": "https://localhost:8080/"
        },
        "id": "AMt_gChVpnDW",
        "outputId": "cbe69b7d-3885-48da-af78-1eb052cd7383"
      },
      "execution_count": 105,
      "outputs": [
        {
          "output_type": "stream",
          "name": "stdout",
          "text": [
            "\n",
            "15:\n",
            " [ 4  5  6 10  7  2  9  1  3  8]\n"
          ]
        }
      ]
    },
    {
      "cell_type": "code",
      "source": [
        "# 16. Replace even numbers with -1\n",
        "a16 = np.arange(21)\n",
        "a16[a16 % 2 == 0] = -1\n",
        "print(\"\\n16:\\n\", a16)"
      ],
      "metadata": {
        "colab": {
          "base_uri": "https://localhost:8080/"
        },
        "id": "kMKUJb_rqdez",
        "outputId": "66474e57-fbdf-437e-8f20-e43edc288ac2"
      },
      "execution_count": 106,
      "outputs": [
        {
          "output_type": "stream",
          "name": "stdout",
          "text": [
            "\n",
            "16:\n",
            " [-1  1 -1  3 -1  5 -1  7 -1  9 -1 11 -1 13 -1 15 -1 17 -1 19 -1]\n"
          ]
        }
      ]
    },
    {
      "cell_type": "code",
      "source": [
        "\n",
        "# 17. Dot product of two arrays\n",
        "a17 = np.array([1, 2, 3]); b17 = np.array([4, 5, 6])\n",
        "print (\"\\n17:\\n\", np.dot(a17, b17))"
      ],
      "metadata": {
        "colab": {
          "base_uri": "https://localhost:8080/"
        },
        "id": "7rqlbeSXqkt4",
        "outputId": "1dd4c659-f63f-4ba5-cefc-9854601edf58"
      },
      "execution_count": 107,
      "outputs": [
        {
          "output_type": "stream",
          "name": "stdout",
          "text": [
            "\n",
            "17:\n",
            " 32\n"
          ]
        }
      ]
    },
    {
      "cell_type": "code",
      "source": [
        "\n",
        "# 18. Trace of random 5×5\n",
        "a18 = np.random.rand(5, 5)\n",
        "print(\"\\n18 Trace:\", np.trace(a18))"
      ],
      "metadata": {
        "colab": {
          "base_uri": "https://localhost:8080/"
        },
        "id": "vqlKh43rq8iz",
        "outputId": "891f27aa-6d58-4ed5-cdc3-c1e8cb8f2734"
      },
      "execution_count": 108,
      "outputs": [
        {
          "output_type": "stream",
          "name": "stdout",
          "text": [
            "\n",
            "18 Trace: 1.8388003763388299\n"
          ]
        }
      ]
    },
    {
      "cell_type": "code",
      "source": [
        "\n",
        "# 19. Split 1D array into 3 equal parts\n",
        "a19 = np.arange(12)\n",
        "print(\"\\n19:\\n\", np.split(a19, 3))\n"
      ],
      "metadata": {
        "colab": {
          "base_uri": "https://localhost:8080/"
        },
        "id": "Q6yAoHY8rcSG",
        "outputId": "3599c28f-0abd-49a6-b2de-319a9ce1cc62"
      },
      "execution_count": 109,
      "outputs": [
        {
          "output_type": "stream",
          "name": "stdout",
          "text": [
            "\n",
            "19:\n",
            " [array([0, 1, 2, 3]), array([4, 5, 6, 7]), array([ 8,  9, 10, 11])]\n"
          ]
        }
      ]
    },
    {
      "cell_type": "code",
      "source": [
        "# 20. 3D array mean across axis=0\n",
        "a20 = np.random.rand(3, 3, 3)\n",
        "print(\"\\n20:\\n\", a20.mean(axis=0))"
      ],
      "metadata": {
        "colab": {
          "base_uri": "https://localhost:8080/"
        },
        "id": "BY3pBf5frunp",
        "outputId": "e511fd1f-810c-48dc-caa6-011b9e91da71"
      },
      "execution_count": 110,
      "outputs": [
        {
          "output_type": "stream",
          "name": "stdout",
          "text": [
            "\n",
            "20:\n",
            " [[0.61409251 0.37145222 0.47020997]\n",
            " [0.31847699 0.42281591 0.36196803]\n",
            " [0.27407508 0.44249032 0.54623601]]\n"
          ]
        }
      ]
    },
    {
      "cell_type": "code",
      "source": [
        "# 21. Cumulative sum\n",
        "a21 = np.arange(1, 6)\n",
        "print(\"\\n21:\\n\", np.cumsum(a21))"
      ],
      "metadata": {
        "colab": {
          "base_uri": "https://localhost:8080/"
        },
        "id": "U9U-yFNBsJLI",
        "outputId": "a8fddadd-cb7d-4de2-d77a-0da4c5931756"
      },
      "execution_count": 111,
      "outputs": [
        {
          "output_type": "stream",
          "name": "stdout",
          "text": [
            "\n",
            "21:\n",
            " [ 1  3  6 10 15]\n"
          ]
        }
      ]
    },
    {
      "cell_type": "code",
      "source": [
        "# 22. Upper triangular matrix\n",
        "a22 = np.random.randint(1, 10, (4, 4))\n",
        "print(\"\\n22:\\n\", np.triu(a22))"
      ],
      "metadata": {
        "colab": {
          "base_uri": "https://localhost:8080/"
        },
        "id": "Xm6Qx08OsJ13",
        "outputId": "995c3ed3-4757-4a4b-850f-09eb6bfc71f0"
      },
      "execution_count": 112,
      "outputs": [
        {
          "output_type": "stream",
          "name": "stdout",
          "text": [
            "\n",
            "22:\n",
            " [[2 5 6 6]\n",
            " [0 2 4 4]\n",
            " [0 0 7 7]\n",
            " [0 0 0 5]]\n"
          ]
        }
      ]
    },
    {
      "cell_type": "code",
      "source": [
        "# 23. 6×6 checkerboard\n",
        "a23 = np.indices((6, 6)).sum(axis=0) % 2\n",
        "print(\"\\n23:\\n\", a23)"
      ],
      "metadata": {
        "colab": {
          "base_uri": "https://localhost:8080/"
        },
        "id": "6IPpNOrhsKPI",
        "outputId": "66366797-b205-42fd-c458-9858f7777960"
      },
      "execution_count": 113,
      "outputs": [
        {
          "output_type": "stream",
          "name": "stdout",
          "text": [
            "\n",
            "23:\n",
            " [[0 1 0 1 0 1]\n",
            " [1 0 1 0 1 0]\n",
            " [0 1 0 1 0 1]\n",
            " [1 0 1 0 1 0]\n",
            " [0 1 0 1 0 1]\n",
            " [1 0 1 0 1 0]]\n"
          ]
        }
      ]
    },
    {
      "cell_type": "code",
      "source": [
        "# 24. Element-wise sqrt\n",
        "a24 = np.random.rand(3, 3)\n",
        "print(\"\\n24:\\n\", np.sqrt(a24))"
      ],
      "metadata": {
        "colab": {
          "base_uri": "https://localhost:8080/"
        },
        "id": "dcT187P_sKhq",
        "outputId": "e475ed15-5841-4290-a79a-7f021aa8aec8"
      },
      "execution_count": 114,
      "outputs": [
        {
          "output_type": "stream",
          "name": "stdout",
          "text": [
            "\n",
            "24:\n",
            " [[0.67256227 0.65253525 0.40885344]\n",
            " [0.69935014 0.87652759 0.45206294]\n",
            " [0.16665896 0.9570202  0.81713613]]\n"
          ]
        }
      ]
    },
    {
      "cell_type": "code",
      "source": [
        "# 25. Reverse array (no slicing)\n",
        "a25 = np.arange(20)\n",
        "print(\"\\n25:\\n\", np.flip(a25))"
      ],
      "metadata": {
        "colab": {
          "base_uri": "https://localhost:8080/"
        },
        "id": "2r0sJKlFsK5F",
        "outputId": "e2f701cc-d23f-4419-bee1-f8547de9f3e0"
      },
      "execution_count": 115,
      "outputs": [
        {
          "output_type": "stream",
          "name": "stdout",
          "text": [
            "\n",
            "25:\n",
            " [19 18 17 16 15 14 13 12 11 10  9  8  7  6  5  4  3  2  1  0]\n"
          ]
        }
      ]
    },
    {
      "cell_type": "code",
      "source": [
        "# 26. Merge arrays vertically & horizontally\n",
        "a26, b26 = np.ones((2, 2)), np.zeros((2, 2))\n",
        "print(\"\\n26 vstack:\\n\", np.vstack((a26, b26)), \"\\nhstack:\\n\", np.hstack((a26, b26)))"
      ],
      "metadata": {
        "colab": {
          "base_uri": "https://localhost:8080/"
        },
        "id": "9bl1EjQ4satY",
        "outputId": "ea9ddc96-8c79-415f-8c8b-153ba3841b5e"
      },
      "execution_count": 116,
      "outputs": [
        {
          "output_type": "stream",
          "name": "stdout",
          "text": [
            "\n",
            "26 vstack:\n",
            " [[1. 1.]\n",
            " [1. 1.]\n",
            " [0. 0.]\n",
            " [0. 0.]] \n",
            "hstack:\n",
            " [[1. 1. 0. 0.]\n",
            " [1. 1. 0. 0.]]\n"
          ]
        }
      ]
    },
    {
      "cell_type": "code",
      "source": [
        "# 27. Row-wise and column-wise sum\n",
        "a27 = np.random.randint(1, 10, (3, 3))\n",
        "print(\"\\n27 Row sum:\", a27.sum(axis=1), \"Col sum:\", a27.sum(axis=0))"
      ],
      "metadata": {
        "colab": {
          "base_uri": "https://localhost:8080/"
        },
        "id": "3Hx5h9tSsd8h",
        "outputId": "948901d8-b7dc-4ae4-e970-144ac41f5862"
      },
      "execution_count": 117,
      "outputs": [
        {
          "output_type": "stream",
          "name": "stdout",
          "text": [
            "\n",
            "27 Row sum: [14 14 16] Col sum: [13 17 14]\n"
          ]
        }
      ]
    },
    {
      "cell_type": "code",
      "source": [
        "# 28. Replace NaN with column mean\n",
        "a28 = np.array([[1, np.nan, 3], [4, 5, np.nan]])\n",
        "col_mean = np.nanmean(a28, axis=0)\n",
        "inds = np.where(np.isnan(a28))\n",
        "a28[inds] = np.take(col_mean, inds[1])\n",
        "print(\"\\n28:\\n\", a28)"
      ],
      "metadata": {
        "colab": {
          "base_uri": "https://localhost:8080/"
        },
        "id": "jcKp47vnsd5E",
        "outputId": "db428795-5fe3-412d-f008-7300a9552804"
      },
      "execution_count": 118,
      "outputs": [
        {
          "output_type": "stream",
          "name": "stdout",
          "text": [
            "\n",
            "28:\n",
            " [[1. 5. 3.]\n",
            " [4. 5. 3.]]\n"
          ]
        }
      ]
    },
    {
      "cell_type": "code",
      "source": [
        "# 29. Cosine similarity\n",
        "a29, b29 = np.array([1, 2, 3]), np.array([4, 5, 6])\n",
        "cos_sim = np.dot(a29, b29) / (np.linalg.norm(a29) * np.linalg.norm(b29))\n",
        "print(\"\\n29 Cosine similarity:\", cos_sim)"
      ],
      "metadata": {
        "colab": {
          "base_uri": "https://localhost:8080/"
        },
        "id": "u7_tw6lwsdzK",
        "outputId": "67309ae1-a0ac-4ae2-a62a-737e46c23e43"
      },
      "execution_count": 119,
      "outputs": [
        {
          "output_type": "stream",
          "name": "stdout",
          "text": [
            "\n",
            "29 Cosine similarity: 0.9746318461970762\n"
          ]
        }
      ]
    },
    {
      "cell_type": "code",
      "source": [
        "# 30. Rotate 4×4 by 90°\n",
        "a30 = np.arange(16).reshape(4, 4)\n",
        "print(\"\\n30:\\n\", np.rot90(a30))"
      ],
      "metadata": {
        "colab": {
          "base_uri": "https://localhost:8080/"
        },
        "id": "i44LFOUAsdvu",
        "outputId": "2d49fbb4-89b7-4de1-b7e7-327f04ae462a"
      },
      "execution_count": 120,
      "outputs": [
        {
          "output_type": "stream",
          "name": "stdout",
          "text": [
            "\n",
            "30:\n",
            " [[ 3  7 11 15]\n",
            " [ 2  6 10 14]\n",
            " [ 1  5  9 13]\n",
            " [ 0  4  8 12]]\n"
          ]
        }
      ]
    },
    {
      "cell_type": "code",
      "source": [
        "# 31. Structured array\n",
        "dt = np.dtype([('name', 'U10'), ('age', 'i4'), ('marks', 'f4')])\n",
        "a31 = np.array([('Alex', 21, 88.5), ('Bob', 22, 91.0)], dtype=dt)\n",
        "print(\"\\n31:\\n\", a31)"
      ],
      "metadata": {
        "colab": {
          "base_uri": "https://localhost:8080/"
        },
        "id": "Tg3c3pj_sdsl",
        "outputId": "0896ea56-1020-4e35-d4c4-92e4e0c58261"
      },
      "execution_count": 121,
      "outputs": [
        {
          "output_type": "stream",
          "name": "stdout",
          "text": [
            "\n",
            "31:\n",
            " [('Alex', 21, 88.5) ('Bob', 22, 91. )]\n"
          ]
        }
      ]
    },
    {
      "cell_type": "code",
      "source": [
        "# 32. Rank of 3×3 matrix\n",
        "a32 = np.random.randint(1, 10, (3, 3))\n",
        "print(\"\\n32 Rank:\", np.linalg.matrix_rank(a32))"
      ],
      "metadata": {
        "colab": {
          "base_uri": "https://localhost:8080/"
        },
        "id": "YbSVFPhksdpc",
        "outputId": "9f83a31e-e648-46a1-d1d6-21fa69bd7a35"
      },
      "execution_count": 122,
      "outputs": [
        {
          "output_type": "stream",
          "name": "stdout",
          "text": [
            "\n",
            "32 Rank: 3\n"
          ]
        }
      ]
    },
    {
      "cell_type": "code",
      "source": [
        "# 33. Normalize each row to unit length\n",
        "a33 = np.random.rand(5, 5)\n",
        "a33 = a33 / np.linalg.norm(a33, axis=1, keepdims=True)\n",
        "print(\"\\n33:\\n\", a33)"
      ],
      "metadata": {
        "colab": {
          "base_uri": "https://localhost:8080/"
        },
        "id": "VRVQEbIfsdmQ",
        "outputId": "681f63f9-999d-4359-8128-e722747b0e43"
      },
      "execution_count": 123,
      "outputs": [
        {
          "output_type": "stream",
          "name": "stdout",
          "text": [
            "\n",
            "33:\n",
            " [[0.09534602 0.46149525 0.52364424 0.08194963 0.70499095]\n",
            " [0.29103215 0.61646806 0.55936768 0.20188147 0.4261679 ]\n",
            " [0.31904708 0.84492992 0.16263986 0.39426324 0.04906292]\n",
            " [0.69798771 0.5726108  0.01622312 0.30346682 0.30426097]\n",
            " [0.69623821 0.33485251 0.52603697 0.30379262 0.18471952]]\n"
          ]
        }
      ]
    },
    {
      "cell_type": "code",
      "source": [
        "# 34. Check element-wise equality\n",
        "print(\"\\n34:\", np.array_equal([1, 2], [1, 2]))"
      ],
      "metadata": {
        "colab": {
          "base_uri": "https://localhost:8080/"
        },
        "id": "PpCs2heuuE9e",
        "outputId": "97f3cf64-f84e-4827-84d2-c27d009fd9b0"
      },
      "execution_count": 124,
      "outputs": [
        {
          "output_type": "stream",
          "name": "stdout",
          "text": [
            "\n",
            "34: True\n"
          ]
        }
      ]
    },
    {
      "cell_type": "code",
      "source": [
        "# 35. Histogram of 1000 numbers\n",
        "a35 = np.random.randn(1000)\n",
        "hist, bins = np.histogram(a35, bins=10)\n",
        "print(\"\\n35 Histogram:\\n\", hist)"
      ],
      "metadata": {
        "colab": {
          "base_uri": "https://localhost:8080/"
        },
        "id": "ksKZiJ-WuE6A",
        "outputId": "b630f136-03ba-45e2-e4e6-ebba17c9eda2"
      },
      "execution_count": 125,
      "outputs": [
        {
          "output_type": "stream",
          "name": "stdout",
          "text": [
            "\n",
            "35 Histogram:\n",
            " [  4  15  53 149 211 228 209  84  36  11]\n"
          ]
        }
      ]
    },
    {
      "cell_type": "code",
      "source": [
        "# 36. Broadcasting add\n",
        "a36 = np.array([[1], [2], [3]])\n",
        "b36 = np.array([4, 5, 6])\n",
        "print(\"\\n36:\\n\", a36 + b36)"
      ],
      "metadata": {
        "colab": {
          "base_uri": "https://localhost:8080/"
        },
        "id": "lWTARd6HuE3O",
        "outputId": "98511fe5-0b22-4bdf-9e71-58d9e91e17a2"
      },
      "execution_count": 126,
      "outputs": [
        {
          "output_type": "stream",
          "name": "stdout",
          "text": [
            "\n",
            "36:\n",
            " [[5 6 7]\n",
            " [6 7 8]\n",
            " [7 8 9]]\n"
          ]
        }
      ]
    },
    {
      "cell_type": "code",
      "source": [
        "# 37. Unique values and counts\n",
        "a37 = np.array([1, 2, 2, 3, 3, 3])\n",
        "vals, counts = np.unique(a37, return_counts=True)\n",
        "print(\"\\n37:\\n\", dict(zip(vals, counts)))"
      ],
      "metadata": {
        "colab": {
          "base_uri": "https://localhost:8080/"
        },
        "id": "xXVZ3484uEz8",
        "outputId": "f785e37c-48c5-4f50-835b-a24aaa7df5ee"
      },
      "execution_count": 127,
      "outputs": [
        {
          "output_type": "stream",
          "name": "stdout",
          "text": [
            "\n",
            "37:\n",
            " {np.int64(1): np.int64(1), np.int64(2): np.int64(2), np.int64(3): np.int64(3)}\n"
          ]
        }
      ]
    },
    {
      "cell_type": "code",
      "source": [
        "# 38. Pearson correlation coefficient\n",
        "a38, b38 = np.array([1, 2, 3]), np.array([4, 5, 6])\n",
        "print(\"\\n38 Corrcoef:\\n\", np.corrcoef(a38, b38))"
      ],
      "metadata": {
        "colab": {
          "base_uri": "https://localhost:8080/"
        },
        "id": "FQi4WzgBuExW",
        "outputId": "b4ffc67d-d0af-40ae-84da-c7b20d2e6247"
      },
      "execution_count": 128,
      "outputs": [
        {
          "output_type": "stream",
          "name": "stdout",
          "text": [
            "\n",
            "38 Corrcoef:\n",
            " [[1. 1.]\n",
            " [1. 1.]]\n"
          ]
        }
      ]
    },
    {
      "cell_type": "code",
      "source": [
        "# 39. Numerical gradient\n",
        "a39 = np.array([1, 2, 4, 7, 11])\n",
        "print(\"\\n39 Gradient:\", np.gradient(a39))"
      ],
      "metadata": {
        "colab": {
          "base_uri": "https://localhost:8080/"
        },
        "id": "omZlLSW7uEud",
        "outputId": "6edc3093-49d0-4cec-8c82-7e2531759938"
      },
      "execution_count": 129,
      "outputs": [
        {
          "output_type": "stream",
          "name": "stdout",
          "text": [
            "\n",
            "39 Gradient: [1.  1.5 2.5 3.5 4. ]\n"
          ]
        }
      ]
    },
    {
      "cell_type": "code",
      "source": [
        "# 40. SVD of random 3×3\n",
        "a40 = np.random.rand(3, 3)\n",
        "U, S, V = np.linalg.svd(a40)\n",
        "print(\"\\n40:\\nU:\\n\", U, \"\\nS:\\n\", S, \"\\nV:\\n\", V)"
      ],
      "metadata": {
        "colab": {
          "base_uri": "https://localhost:8080/"
        },
        "id": "xkDiBo2BuErL",
        "outputId": "9cdc35ca-ae4e-4a78-b055-ba1bb0170c0e"
      },
      "execution_count": 130,
      "outputs": [
        {
          "output_type": "stream",
          "name": "stdout",
          "text": [
            "\n",
            "40:\n",
            "U:\n",
            " [[-0.87740285 -0.19193349 -0.43968828]\n",
            " [-0.31181076 -0.46837675  0.82667846]\n",
            " [-0.36460704  0.86242957  0.35110816]] \n",
            "S:\n",
            " [1.47475148 0.53985631 0.05256082] \n",
            "V:\n",
            " [[-0.72416784 -0.1406238  -0.67513398]\n",
            " [ 0.58577572  0.39120871 -0.70980459]\n",
            " [-0.36393371  0.90949474  0.20092676]]\n"
          ]
        }
      ]
    }
  ]
}